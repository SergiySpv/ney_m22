{
  "nbformat": 4,
  "nbformat_minor": 0,
  "metadata": {
    "colab": {
      "name": "Lab4.ipynb",
      "provenance": [],
      "authorship_tag": "ABX9TyOPQNzNtCCCKlEVBGqOJ1Vf",
      "include_colab_link": true
    },
    "kernelspec": {
      "name": "python3",
      "display_name": "Python 3"
    },
    "language_info": {
      "name": "python"
    }
  },
  "cells": [
    {
      "cell_type": "markdown",
      "metadata": {
        "id": "view-in-github",
        "colab_type": "text"
      },
      "source": [
        "<a href=\"https://colab.research.google.com/github/SergiySpv/ney_m22/blob/main/Lab4.ipynb\" target=\"_parent\"><img src=\"https://colab.research.google.com/assets/colab-badge.svg\" alt=\"Open In Colab\"/></a>"
      ]
    },
    {
      "cell_type": "markdown",
      "source": [
        "Лабораторна 4"
      ],
      "metadata": {
        "id": "ONDK2X87juUc"
      }
    },
    {
      "cell_type": "markdown",
      "source": [
        "з дисципліни \"Нейронні мережі\""
      ],
      "metadata": {
        "id": "MkVlOMzrju0p"
      }
    },
    {
      "cell_type": "markdown",
      "source": [
        "студента групи кн-31"
      ],
      "metadata": {
        "id": "C_zW6gOUju7C"
      }
    },
    {
      "cell_type": "markdown",
      "source": [
        "Сопова Сергія"
      ],
      "metadata": {
        "id": "FV5xcelUju_k"
      }
    },
    {
      "cell_type": "markdown",
      "source": [
        "На основі документу вирішити завдання класифікації для набору даних Fashion MNIST(спочатку витягнемо дані)."
      ],
      "metadata": {
        "id": "Yn3zj10djvDs"
      }
    },
    {
      "cell_type": "code",
      "source": [
        "import tensorflow as tf\n",
        "from tensorflow.keras.datasets import fashion_mnist\n",
        "\n",
        "(train_data, train_labels), (test_data, test_labels) = fashion_mnist.load_data()"
      ],
      "metadata": {
        "colab": {
          "base_uri": "https://localhost:8080/"
        },
        "id": "EemwpysYldPM",
        "outputId": "9f7b78e7-269d-43ae-dfdd-de582f4784c5"
      },
      "execution_count": 1,
      "outputs": [
        {
          "output_type": "stream",
          "name": "stdout",
          "text": [
            "Downloading data from https://storage.googleapis.com/tensorflow/tf-keras-datasets/train-labels-idx1-ubyte.gz\n",
            "32768/29515 [=================================] - 0s 0us/step\n",
            "40960/29515 [=========================================] - 0s 0us/step\n",
            "Downloading data from https://storage.googleapis.com/tensorflow/tf-keras-datasets/train-images-idx3-ubyte.gz\n",
            "26427392/26421880 [==============================] - 0s 0us/step\n",
            "26435584/26421880 [==============================] - 0s 0us/step\n",
            "Downloading data from https://storage.googleapis.com/tensorflow/tf-keras-datasets/t10k-labels-idx1-ubyte.gz\n",
            "16384/5148 [===============================================================================================] - 0s 0us/step\n",
            "Downloading data from https://storage.googleapis.com/tensorflow/tf-keras-datasets/t10k-images-idx3-ubyte.gz\n",
            "4423680/4422102 [==============================] - 0s 0us/step\n",
            "4431872/4422102 [==============================] - 0s 0us/step\n"
          ]
        }
      ]
    },
    {
      "cell_type": "markdown",
      "source": [
        "Для моделювання використати 3 класи індекси\n"
      ],
      "metadata": {
        "id": "ETVQkvyFjvG_"
      }
    },
    {
      "cell_type": "code",
      "source": [
        "import numpy as np\n",
        "import random\n",
        "import matplotlib.pyplot as plt\n",
        "\n",
        "class_names = ['Coat','Sneaker','Trouser']\n",
        "my_train_data = []\n",
        "my_train_labels = []\n",
        "for i in range(len(train_labels)):\n",
        "  if (train_labels[i] in [4,7,1]):\n",
        "    my_train_data.append(train_data[i])\n",
        "    my_train_labels.append(train_labels[i])\n",
        "\n",
        "my_test_data=[]\n",
        "my_test_labels  = []\n",
        "for i in range(len(test_labels)):\n",
        "  if (test_labels[i] in [4,7,1]):\n",
        "    my_test_data.append(test_data[i])\n",
        "    my_test_labels.append(test_labels[i])\n",
        "\n",
        "# Plot my random images of fashion MNIST\n",
        "plt.figure(figsize=(10, 10))\n",
        "for i in range(10):\n",
        "  ax = plt.subplot(5, 5, i + 1)\n",
        "  rand_index = random.choice(range(len(my_train_data)))\n",
        "  plt.imshow(my_train_data[i], cmap=plt.cm.binary)\n",
        "  plt.title(my_train_labels[i])\n",
        "  plt.axis(False)"
      ],
      "metadata": {
        "colab": {
          "base_uri": "https://localhost:8080/",
          "height": 253
        },
        "id": "88cpSizlltdp",
        "outputId": "34facc23-50c3-4f8d-da9e-8f1a3f21bb8f"
      },
      "execution_count": 2,
      "outputs": [
        {
          "output_type": "display_data",
          "data": {
            "text/plain": [
              "<Figure size 720x720 with 10 Axes>"
            ],
            "image/png": "[encoded data removed]"
          },
          "metadata": {
            "needs_background": "light"
          }
        }
      ]
    },
    {
      "cell_type": "markdown",
      "source": [
        "Моделювання провести із використанням нейронної мережі (Flatten & Dense layers)"
      ],
      "metadata": {
        "id": "IsU1wMdilcUs"
      }
    },
    {
      "cell_type": "code",
      "source": [
        "my_train_data = np.array(my_train_data) / 255.0\n",
        "my_train_labels = np.array(my_train_labels)\n",
        "my_test_data= np.array(my_test_data) / 255.0\n",
        "my_test_labels  = np.array(my_test_labels)\n",
        "\n",
        "tf.random.set_seed(42)\n",
        "\n",
        "model_13 = tf.keras.Sequential([\n",
        "  tf.keras.layers.Flatten(input_shape=(28, 28)),\n",
        "  tf.keras.layers.Dense(4, activation=\"relu\"),\n",
        "  tf.keras.layers.Dense(4, activation=\"relu\"),\n",
        "  tf.keras.layers.Dense(10, activation=\"softmax\") \n",
        "])\n",
        "\n",
        "model_13.compile(loss=tf.keras.losses.SparseCategoricalCrossentropy(),\n",
        "                 optimizer=tf.keras.optimizers.Adam(lr=0.001),\n",
        "                 metrics=[\"accuracy\"])\n",
        "\n",
        "lr_scheduler = tf.keras.callbacks.LearningRateScheduler(lambda epoch: 1e-3 * 10**(epoch/200))\n",
        "\n",
        "find_lr_history = model_13.fit(my_train_data,\n",
        "                               my_train_labels,\n",
        "                               epochs=40,\n",
        "                               validation_data=(my_test_data, my_test_labels),\n",
        "                               callbacks=[lr_scheduler])"
      ],
      "metadata": {
        "colab": {
          "base_uri": "https://localhost:8080/"
        },
        "id": "oVoDCrEDnTMb",
        "outputId": "8fd83600-cebe-47f8-d76f-3ea804d1fb40"
      },
      "execution_count": 3,
      "outputs": [
        {
          "output_type": "stream",
          "name": "stdout",
          "text": [
            "Epoch 1/40\n"
          ]
        },
        {
          "output_type": "stream",
          "name": "stderr",
          "text": [
            "/usr/local/lib/python3.7/dist-packages/keras/optimizer_v2/adam.py:105: UserWarning: The `lr` argument is deprecated, use `learning_rate` instead.\n",
            "  super(Adam, self).__init__(name, **kwargs)\n"
          ]
        },
        {
          "output_type": "stream",
          "name": "stdout",
          "text": [
            "563/563 [==============================] - 2s 2ms/step - loss: 0.6372 - accuracy: 0.9006 - val_loss: 0.0351 - val_accuracy: 0.9913 - lr: 0.0010\n",
            "Epoch 2/40\n",
            "563/563 [==============================] - 1s 2ms/step - loss: 0.0217 - accuracy: 0.9941 - val_loss: 0.0224 - val_accuracy: 0.9943 - lr: 0.0010\n",
            "Epoch 3/40\n",
            "563/563 [==============================] - 1s 2ms/step - loss: 0.0166 - accuracy: 0.9958 - val_loss: 0.0216 - val_accuracy: 0.9937 - lr: 0.0010\n",
            "Epoch 4/40\n",
            "563/563 [==============================] - 1s 2ms/step - loss: 0.0132 - accuracy: 0.9962 - val_loss: 0.0175 - val_accuracy: 0.9960 - lr: 0.0010\n",
            "Epoch 5/40\n",
            "563/563 [==============================] - 1s 2ms/step - loss: 0.0119 - accuracy: 0.9966 - val_loss: 0.0191 - val_accuracy: 0.9953 - lr: 0.0010\n",
            "Epoch 6/40\n",
            "563/563 [==============================] - 1s 2ms/step - loss: 0.0095 - accuracy: 0.9972 - val_loss: 0.0168 - val_accuracy: 0.9957 - lr: 0.0011\n",
            "Epoch 7/40\n",
            "563/563 [==============================] - 1s 2ms/step - loss: 0.0103 - accuracy: 0.9966 - val_loss: 0.0159 - val_accuracy: 0.9960 - lr: 0.0011\n",
            "Epoch 8/40\n",
            "563/563 [==============================] - 1s 2ms/step - loss: 0.0083 - accuracy: 0.9975 - val_loss: 0.0177 - val_accuracy: 0.9957 - lr: 0.0011\n",
            "Epoch 9/40\n",
            "563/563 [==============================] - 1s 2ms/step - loss: 0.0078 - accuracy: 0.9973 - val_loss: 0.0128 - val_accuracy: 0.9953 - lr: 0.0011\n",
            "Epoch 10/40\n",
            "563/563 [==============================] - 1s 2ms/step - loss: 0.0071 - accuracy: 0.9977 - val_loss: 0.0135 - val_accuracy: 0.9963 - lr: 0.0011\n",
            "Epoch 11/40\n",
            "563/563 [==============================] - 1s 2ms/step - loss: 0.0082 - accuracy: 0.9974 - val_loss: 0.0145 - val_accuracy: 0.9957 - lr: 0.0011\n",
            "Epoch 12/40\n",
            "563/563 [==============================] - 1s 2ms/step - loss: 0.0069 - accuracy: 0.9979 - val_loss: 0.0164 - val_accuracy: 0.9957 - lr: 0.0011\n",
            "Epoch 13/40\n",
            "563/563 [==============================] - 1s 2ms/step - loss: 0.0052 - accuracy: 0.9981 - val_loss: 0.0153 - val_accuracy: 0.9963 - lr: 0.0011\n",
            "Epoch 14/40\n",
            "563/563 [==============================] - 1s 2ms/step - loss: 0.0058 - accuracy: 0.9977 - val_loss: 0.0144 - val_accuracy: 0.9967 - lr: 0.0012\n",
            "Epoch 15/40\n",
            "563/563 [==============================] - 1s 2ms/step - loss: 0.0049 - accuracy: 0.9981 - val_loss: 0.0206 - val_accuracy: 0.9953 - lr: 0.0012\n",
            "Epoch 16/40\n",
            "563/563 [==============================] - 1s 2ms/step - loss: 0.0052 - accuracy: 0.9986 - val_loss: 0.0150 - val_accuracy: 0.9953 - lr: 0.0012\n",
            "Epoch 17/40\n",
            "563/563 [==============================] - 1s 2ms/step - loss: 0.0039 - accuracy: 0.9987 - val_loss: 0.0176 - val_accuracy: 0.9960 - lr: 0.0012\n",
            "Epoch 18/40\n",
            "563/563 [==============================] - 1s 2ms/step - loss: 0.0050 - accuracy: 0.9981 - val_loss: 0.0341 - val_accuracy: 0.9930 - lr: 0.0012\n",
            "Epoch 19/40\n",
            "563/563 [==============================] - 1s 2ms/step - loss: 0.0061 - accuracy: 0.9981 - val_loss: 0.0166 - val_accuracy: 0.9963 - lr: 0.0012\n",
            "Epoch 20/40\n",
            "563/563 [==============================] - 1s 2ms/step - loss: 0.0048 - accuracy: 0.9985 - val_loss: 0.0185 - val_accuracy: 0.9953 - lr: 0.0012\n",
            "Epoch 21/40\n",
            "563/563 [==============================] - 1s 2ms/step - loss: 0.0038 - accuracy: 0.9988 - val_loss: 0.0158 - val_accuracy: 0.9957 - lr: 0.0013\n",
            "Epoch 22/40\n",
            "563/563 [==============================] - 1s 2ms/step - loss: 0.0033 - accuracy: 0.9987 - val_loss: 0.0214 - val_accuracy: 0.9957 - lr: 0.0013\n",
            "Epoch 23/40\n",
            "563/563 [==============================] - 1s 2ms/step - loss: 0.0044 - accuracy: 0.9983 - val_loss: 0.0181 - val_accuracy: 0.9973 - lr: 0.0013\n",
            "Epoch 24/40\n",
            "563/563 [==============================] - 1s 2ms/step - loss: 0.0033 - accuracy: 0.9987 - val_loss: 0.0179 - val_accuracy: 0.9973 - lr: 0.0013\n",
            "Epoch 25/40\n",
            "563/563 [==============================] - 1s 2ms/step - loss: 0.0047 - accuracy: 0.9984 - val_loss: 0.0181 - val_accuracy: 0.9967 - lr: 0.0013\n",
            "Epoch 26/40\n",
            "563/563 [==============================] - 1s 2ms/step - loss: 0.0031 - accuracy: 0.9992 - val_loss: 0.0239 - val_accuracy: 0.9957 - lr: 0.0013\n",
            "Epoch 27/40\n",
            "563/563 [==============================] - 1s 2ms/step - loss: 0.0040 - accuracy: 0.9986 - val_loss: 0.0247 - val_accuracy: 0.9950 - lr: 0.0013\n",
            "Epoch 28/40\n",
            "563/563 [==============================] - 1s 2ms/step - loss: 0.0029 - accuracy: 0.9988 - val_loss: 0.0187 - val_accuracy: 0.9970 - lr: 0.0014\n",
            "Epoch 29/40\n",
            "563/563 [==============================] - 1s 2ms/step - loss: 0.0033 - accuracy: 0.9988 - val_loss: 0.0192 - val_accuracy: 0.9957 - lr: 0.0014\n",
            "Epoch 30/40\n",
            "563/563 [==============================] - 1s 2ms/step - loss: 0.0038 - accuracy: 0.9988 - val_loss: 0.0222 - val_accuracy: 0.9960 - lr: 0.0014\n",
            "Epoch 31/40\n",
            "563/563 [==============================] - 1s 2ms/step - loss: 0.0025 - accuracy: 0.9992 - val_loss: 0.0356 - val_accuracy: 0.9937 - lr: 0.0014\n",
            "Epoch 32/40\n",
            "563/563 [==============================] - 1s 2ms/step - loss: 0.0049 - accuracy: 0.9989 - val_loss: 0.0174 - val_accuracy: 0.9967 - lr: 0.0014\n",
            "Epoch 33/40\n",
            "563/563 [==============================] - 1s 2ms/step - loss: 0.0032 - accuracy: 0.9992 - val_loss: 0.0210 - val_accuracy: 0.9960 - lr: 0.0014\n",
            "Epoch 34/40\n",
            "563/563 [==============================] - 1s 2ms/step - loss: 0.0020 - accuracy: 0.9994 - val_loss: 0.0234 - val_accuracy: 0.9950 - lr: 0.0015\n",
            "Epoch 35/40\n",
            "563/563 [==============================] - 1s 2ms/step - loss: 0.0020 - accuracy: 0.9991 - val_loss: 0.0215 - val_accuracy: 0.9950 - lr: 0.0015\n",
            "Epoch 36/40\n",
            "563/563 [==============================] - 1s 2ms/step - loss: 0.0029 - accuracy: 0.9991 - val_loss: 0.0383 - val_accuracy: 0.9950 - lr: 0.0015\n",
            "Epoch 37/40\n",
            "563/563 [==============================] - 1s 2ms/step - loss: 0.0035 - accuracy: 0.9987 - val_loss: 0.0325 - val_accuracy: 0.9953 - lr: 0.0015\n",
            "Epoch 38/40\n",
            "563/563 [==============================] - 1s 2ms/step - loss: 0.0019 - accuracy: 0.9993 - val_loss: 0.0201 - val_accuracy: 0.9957 - lr: 0.0015\n",
            "Epoch 39/40\n",
            "563/563 [==============================] - 1s 2ms/step - loss: 0.0011 - accuracy: 0.9997 - val_loss: 0.0292 - val_accuracy: 0.9953 - lr: 0.0015\n",
            "Epoch 40/40\n",
            "563/563 [==============================] - 1s 2ms/step - loss: 0.0026 - accuracy: 0.9995 - val_loss: 0.0216 - val_accuracy: 0.9960 - lr: 0.0016\n"
          ]
        }
      ]
    },
    {
      "cell_type": "markdown",
      "source": [
        "Здійснити вибір оптимального кроку градієнтного алгоритму (learning_rate)"
      ],
      "metadata": {
        "id": "3S8-YJL5lcX_"
      }
    },
    {
      "cell_type": "code",
      "source": [
        "import numpy as np\n",
        "import matplotlib.pyplot as plt\n",
        "lrs = 1e-3 * (10**(np.arange(40)/20))\n",
        "plt.semilogx(lrs, find_lr_history.history[\"loss\"]) # want the x-axis to be log-scale\n",
        "plt.xlabel(\"Learning rate\")\n",
        "plt.ylabel(\"Loss\")\n",
        "plt.title(\"Finding the ideal learning rate\");\n"
      ],
      "metadata": {
        "colab": {
          "base_uri": "https://localhost:8080/",
          "height": 299
        },
        "id": "x3WT2mENns2v",
        "outputId": "212e95a3-e831-4ae1-caf6-f5aab31dc520"
      },
      "execution_count": 4,
      "outputs": [
        {
          "output_type": "display_data",
          "data": {
            "text/plain": [
              "<Figure size 432x288 with 1 Axes>"
            ],
            "image/png": "[encoded data removed]"
          },
          "metadata": {
            "needs_background": "light"
          }
        }
      ]
    },
    {
      "cell_type": "code",
      "source": [
        "tf.random.set_seed(42)\n",
        "\n",
        "# Create the model\n",
        "model_14 = tf.keras.Sequential([\n",
        "  tf.keras.layers.Flatten(input_shape=(28, 28)),\n",
        "  tf.keras.layers.Dense(4, activation=\"relu\"),\n",
        "  tf.keras.layers.Dense(4, activation=\"relu\"),\n",
        "  tf.keras.layers.Dense(10, activation=\"softmax\")\n",
        "])\n",
        "\n",
        "# Compile the model\n",
        "model_14.compile(loss=tf.keras.losses.SparseCategoricalCrossentropy(),\n",
        "                 optimizer=tf.keras.optimizers.Adam(lr=0.07),\n",
        "                 metrics=[\"accuracy\"])\n",
        "\n",
        "# Fit the model\n",
        "history = model_14.fit(my_train_data,\n",
        "                       my_train_labels,\n",
        "                       epochs=20,\n",
        "                       validation_data=(my_test_data, my_test_labels))"
      ],
      "metadata": {
        "colab": {
          "base_uri": "https://localhost:8080/"
        },
        "id": "qBEvRzjKoRPl",
        "outputId": "62782f03-e149-40cd-b44b-47b179274070"
      },
      "execution_count": 5,
      "outputs": [
        {
          "output_type": "stream",
          "name": "stdout",
          "text": [
            "Epoch 1/20\n"
          ]
        },
        {
          "output_type": "stream",
          "name": "stderr",
          "text": [
            "/usr/local/lib/python3.7/dist-packages/keras/optimizer_v2/adam.py:105: UserWarning: The `lr` argument is deprecated, use `learning_rate` instead.\n",
            "  super(Adam, self).__init__(name, **kwargs)\n"
          ]
        },
        {
          "output_type": "stream",
          "name": "stdout",
          "text": [
            "563/563 [==============================] - 2s 2ms/step - loss: 0.1214 - accuracy: 0.9656 - val_loss: 0.0820 - val_accuracy: 0.9907\n",
            "Epoch 2/20\n",
            "563/563 [==============================] - 1s 2ms/step - loss: 0.0428 - accuracy: 0.9910 - val_loss: 0.0590 - val_accuracy: 0.9893\n",
            "Epoch 3/20\n",
            "563/563 [==============================] - 1s 2ms/step - loss: 0.0325 - accuracy: 0.9932 - val_loss: 0.0318 - val_accuracy: 0.9943\n",
            "Epoch 4/20\n",
            "563/563 [==============================] - 1s 2ms/step - loss: 0.0351 - accuracy: 0.9922 - val_loss: 0.0345 - val_accuracy: 0.9937\n",
            "Epoch 5/20\n",
            "563/563 [==============================] - 1s 2ms/step - loss: 0.0465 - accuracy: 0.9895 - val_loss: 0.0409 - val_accuracy: 0.9913\n",
            "Epoch 6/20\n",
            "563/563 [==============================] - 1s 2ms/step - loss: 0.0430 - accuracy: 0.9928 - val_loss: 0.0554 - val_accuracy: 0.9930\n",
            "Epoch 7/20\n",
            "563/563 [==============================] - 1s 2ms/step - loss: 0.0708 - accuracy: 0.9876 - val_loss: 0.0638 - val_accuracy: 0.9870\n",
            "Epoch 8/20\n",
            "563/563 [==============================] - 1s 2ms/step - loss: 0.0492 - accuracy: 0.9907 - val_loss: 0.0419 - val_accuracy: 0.9920\n",
            "Epoch 9/20\n",
            "563/563 [==============================] - 1s 2ms/step - loss: 0.0368 - accuracy: 0.9943 - val_loss: 0.0403 - val_accuracy: 0.9930\n",
            "Epoch 10/20\n",
            "563/563 [==============================] - 1s 2ms/step - loss: 0.0422 - accuracy: 0.9930 - val_loss: 0.0385 - val_accuracy: 0.9927\n",
            "Epoch 11/20\n",
            "563/563 [==============================] - 1s 2ms/step - loss: 0.2179 - accuracy: 0.9602 - val_loss: 0.0588 - val_accuracy: 0.9900\n",
            "Epoch 12/20\n",
            "563/563 [==============================] - 1s 2ms/step - loss: 0.3172 - accuracy: 0.8119 - val_loss: 0.1089 - val_accuracy: 0.9783\n",
            "Epoch 13/20\n",
            "563/563 [==============================] - 1s 2ms/step - loss: 0.1013 - accuracy: 0.9723 - val_loss: 0.0822 - val_accuracy: 0.9797\n",
            "Epoch 14/20\n",
            "563/563 [==============================] - 1s 2ms/step - loss: 0.0594 - accuracy: 0.9872 - val_loss: 0.0543 - val_accuracy: 0.9890\n",
            "Epoch 15/20\n",
            "563/563 [==============================] - 1s 2ms/step - loss: 0.0626 - accuracy: 0.9872 - val_loss: 0.0854 - val_accuracy: 0.9777\n",
            "Epoch 16/20\n",
            "563/563 [==============================] - 1s 2ms/step - loss: 0.0673 - accuracy: 0.9842 - val_loss: 0.0506 - val_accuracy: 0.9893\n",
            "Epoch 17/20\n",
            "563/563 [==============================] - 1s 2ms/step - loss: 0.0473 - accuracy: 0.9907 - val_loss: 0.0533 - val_accuracy: 0.9893\n",
            "Epoch 18/20\n",
            "563/563 [==============================] - 1s 2ms/step - loss: 0.0518 - accuracy: 0.9922 - val_loss: 0.0433 - val_accuracy: 0.9920\n",
            "Epoch 19/20\n",
            "563/563 [==============================] - 1s 2ms/step - loss: 0.2044 - accuracy: 0.9676 - val_loss: 0.0714 - val_accuracy: 0.9840\n",
            "Epoch 20/20\n",
            "563/563 [==============================] - 1s 2ms/step - loss: 0.0616 - accuracy: 0.9862 - val_loss: 0.0750 - val_accuracy: 0.9813\n"
          ]
        }
      ]
    },
    {
      "cell_type": "markdown",
      "source": [
        "Здійснити побудову Confusion Matrix"
      ],
      "metadata": {
        "id": "proBS_g2lchl"
      }
    },
    {
      "cell_type": "code",
      "source": [
        "from sklearn.metrics import confusion_matrix\n",
        "import pandas as pd\n",
        "import seaborn as sns\n",
        "\n",
        "test_loss, test_acc = model_13.evaluate(my_test_data, my_test_labels)\n",
        "\n",
        "\n",
        "predictions = model_13.predict(my_test_data)\n",
        "y_predictions = []\n",
        "for i in predictions:\n",
        "  i_max = np.argmax(i)\n",
        "  y_predictions = np.append(y_predictions, i_max)\n",
        "\n",
        "cm = confusion_matrix(my_test_labels, y_predictions)\n",
        "dataframe_cm = pd.DataFrame(cm, index = class_names, columns = class_names)\n",
        "\n",
        "sns.heatmap(dataframe_cm, annot=True, cmap=\"winter\")\n",
        "plt.title('Confusion Matrix')\n",
        "\n",
        "\n",
        "plt.show()"
      ],
      "metadata": {
        "colab": {
          "base_uri": "https://localhost:8080/",
          "height": 298
        },
        "id": "w5gty9V5oap5",
        "outputId": "9e7ce6b7-5467-44f9-e1ff-40d9b8176623"
      },
      "execution_count": 7,
      "outputs": [
        {
          "output_type": "stream",
          "name": "stdout",
          "text": [
            "94/94 [==============================] - 0s 1ms/step - loss: 0.0216 - accuracy: 0.9960\n"
          ]
        },
        {
          "output_type": "display_data",
          "data": {
            "text/plain": [
              "<Figure size 432x288 with 2 Axes>"
            ],
            "image/png": "[encoded data removed]"
          },
          "metadata": {
            "needs_background": "light"
          }
        }
      ]
    }
  ]
}