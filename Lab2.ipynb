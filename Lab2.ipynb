{
  "nbformat": 4,
  "nbformat_minor": 0,
  "metadata": {
    "colab": {
      "name": "Lab2.ipynb",
      "provenance": [],
      "authorship_tag": "ABX9TyN6OeHCMB73nB/cAeYiu/88",
      "include_colab_link": true
    },
    "kernelspec": {
      "name": "python3",
      "display_name": "Python 3"
    },
    "language_info": {
      "name": "python"
    }
  },
  "cells": [
    {
      "cell_type": "markdown",
      "metadata": {
        "id": "view-in-github",
        "colab_type": "text"
      },
      "source": [
        "<a href=\"https://colab.research.google.com/github/SergiySpv/ney_m22/blob/main/Lab2.ipynb\" target=\"_parent\"><img src=\"https://colab.research.google.com/assets/colab-badge.svg\" alt=\"Open In Colab\"/></a>"
      ]
    },
    {
      "cell_type": "markdown",
      "source": [
        "Лабораторна №2"
      ],
      "metadata": {
        "id": "nURK6AQn_ens"
      }
    },
    {
      "cell_type": "markdown",
      "source": [
        "З дисципліни \"Нейронні мережі\""
      ],
      "metadata": {
        "id": "mXwd767Z_ex3"
      }
    },
    {
      "cell_type": "markdown",
      "source": [
        "Студентка групи КН-31"
      ],
      "metadata": {
        "id": "bQXu6ICx_e6g"
      }
    },
    {
      "cell_type": "markdown",
      "source": [
        "Сопова Сергія"
      ],
      "metadata": {
        "id": "Bi5R736X_fDn"
      }
    },
    {
      "cell_type": "markdown",
      "source": [
        "створити набір даних із заданим розподілом (розподіл та розмір за власним рішенням), визначити його властивості (shape, rank, size, axis)"
      ],
      "metadata": {
        "id": "-fUgVsxcAeLE"
      }
    },
    {
      "cell_type": "code",
      "source": [
        "\n",
        "import tensorflow as tf\n",
        "import numpy as np\n",
        "import pandas as pd\n",
        "data = np.random.uniform(0,10, size=(13, 13)).astype(int)\n",
        "tensor = tf.convert_to_tensor(data)\n",
        "print(tensor)"
      ],
      "metadata": {
        "colab": {
          "base_uri": "https://localhost:8080/"
        },
        "id": "nXQtl3JBAWXu",
        "outputId": "571a7c72-8cb9-4f5c-d09f-4cca80f55dea"
      },
      "execution_count": 4,
      "outputs": [
        {
          "output_type": "stream",
          "name": "stdout",
          "text": [
            "tf.Tensor(\n",
            "[[6 3 6 3 5 3 1 9 5 4 8 2 3]\n",
            " [9 3 1 5 3 0 5 7 3 9 5 5 9]\n",
            " [8 8 1 5 4 0 0 8 7 5 3 6 7]\n",
            " [7 4 1 4 2 0 7 5 7 3 8 4 5]\n",
            " [0 5 2 4 7 6 4 2 3 5 5 8 6]\n",
            " [4 1 7 7 3 6 7 3 4 9 2 2 7]\n",
            " [1 7 5 1 1 1 0 1 7 5 7 2 0]\n",
            " [5 7 4 7 7 7 1 7 2 2 7 2 1]\n",
            " [0 0 5 8 0 5 3 0 8 8 4 2 4]\n",
            " [0 6 6 5 2 4 6 2 1 1 7 3 3]\n",
            " [4 3 7 2 6 0 7 2 5 8 3 8 8]\n",
            " [0 8 1 2 7 3 2 7 0 1 6 3 3]\n",
            " [0 5 1 5 0 6 3 5 2 1 4 1 0]], shape=(13, 13), dtype=int64)\n"
          ]
        }
      ]
    },
    {
      "cell_type": "markdown",
      "source": [
        "Продемонструвати основні математичні операції над тензорами\n",
        "\n"
      ],
      "metadata": {
        "id": "h4WBIo_ZAyHI"
      }
    },
    {
      "cell_type": "code",
      "source": [
        "custom_tensor = tf.ones(shape=(3, 4, 4))\n",
        "\n",
        "print(custom_tensor)\n",
        "\n",
        "# getting dim, shape, size\n",
        "\n",
        "print(custom_tensor.shape)\n",
        "print(custom_tensor.ndim)\n",
        "print(tf.size(custom_tensor))\n",
        "print(tf.rank(custom_tensor))\n",
        "\n",
        "tf.expand_dims(custom_tensor, axis=-1)"
      ],
      "metadata": {
        "colab": {
          "base_uri": "https://localhost:8080/"
        },
        "id": "XxTm0jZhAjpD",
        "outputId": "1c558035-5fbc-4e7c-febc-586cc9291d28"
      },
      "execution_count": 7,
      "outputs": [
        {
          "output_type": "stream",
          "name": "stdout",
          "text": [
            "tf.Tensor(\n",
            "[[[1. 1. 1. 1.]\n",
            "  [1. 1. 1. 1.]\n",
            "  [1. 1. 1. 1.]\n",
            "  [1. 1. 1. 1.]]\n",
            "\n",
            " [[1. 1. 1. 1.]\n",
            "  [1. 1. 1. 1.]\n",
            "  [1. 1. 1. 1.]\n",
            "  [1. 1. 1. 1.]]\n",
            "\n",
            " [[1. 1. 1. 1.]\n",
            "  [1. 1. 1. 1.]\n",
            "  [1. 1. 1. 1.]\n",
            "  [1. 1. 1. 1.]]], shape=(3, 4, 4), dtype=float32)\n",
            "(3, 4, 4)\n",
            "3\n",
            "tf.Tensor(48, shape=(), dtype=int32)\n",
            "tf.Tensor(3, shape=(), dtype=int32)\n"
          ]
        },
        {
          "output_type": "execute_result",
          "data": {
            "text/plain": [
              "<tf.Tensor: shape=(3, 4, 4, 1), dtype=float32, numpy=\n",
              "array([[[[1.],\n",
              "         [1.],\n",
              "         [1.],\n",
              "         [1.]],\n",
              "\n",
              "        [[1.],\n",
              "         [1.],\n",
              "         [1.],\n",
              "         [1.]],\n",
              "\n",
              "        [[1.],\n",
              "         [1.],\n",
              "         [1.],\n",
              "         [1.]],\n",
              "\n",
              "        [[1.],\n",
              "         [1.],\n",
              "         [1.],\n",
              "         [1.]]],\n",
              "\n",
              "\n",
              "       [[[1.],\n",
              "         [1.],\n",
              "         [1.],\n",
              "         [1.]],\n",
              "\n",
              "        [[1.],\n",
              "         [1.],\n",
              "         [1.],\n",
              "         [1.]],\n",
              "\n",
              "        [[1.],\n",
              "         [1.],\n",
              "         [1.],\n",
              "         [1.]],\n",
              "\n",
              "        [[1.],\n",
              "         [1.],\n",
              "         [1.],\n",
              "         [1.]]],\n",
              "\n",
              "\n",
              "       [[[1.],\n",
              "         [1.],\n",
              "         [1.],\n",
              "         [1.]],\n",
              "\n",
              "        [[1.],\n",
              "         [1.],\n",
              "         [1.],\n",
              "         [1.]],\n",
              "\n",
              "        [[1.],\n",
              "         [1.],\n",
              "         [1.],\n",
              "         [1.]],\n",
              "\n",
              "        [[1.],\n",
              "         [1.],\n",
              "         [1.],\n",
              "         [1.]]]], dtype=float32)>"
            ]
          },
          "metadata": {},
          "execution_count": 7
        }
      ]
    },
    {
      "cell_type": "markdown",
      "source": [
        "Crud"
      ],
      "metadata": {
        "id": "CYENTVX9Dfow"
      }
    },
    {
      "cell_type": "code",
      "source": [
        "tensor = tf.constant([[1, 2, 3],[4, 5, 6],[7, 8, 9],[10, 11, 12]])\n",
        "print(tensor)\n",
        "print(tf.reshape(tensor, shape=(1, 12)))"
      ],
      "metadata": {
        "colab": {
          "base_uri": "https://localhost:8080/"
        },
        "id": "W2HTAMVTA0bW",
        "outputId": "41fae622-b2fa-4745-e3bd-dba002d12acc"
      },
      "execution_count": 8,
      "outputs": [
        {
          "output_type": "stream",
          "name": "stdout",
          "text": [
            "tf.Tensor(\n",
            "[[ 1  2  3]\n",
            " [ 4  5  6]\n",
            " [ 7  8  9]\n",
            " [10 11 12]], shape=(4, 3), dtype=int32)\n",
            "tf.Tensor([[ 1  2  3  4  5  6  7  8  9 10 11 12]], shape=(1, 12), dtype=int32)\n"
          ]
        }
      ]
    },
    {
      "cell_type": "code",
      "source": [
        ""
      ],
      "metadata": {
        "id": "jix5ksY9Dik3"
      },
      "execution_count": null,
      "outputs": []
    }
  ]
}